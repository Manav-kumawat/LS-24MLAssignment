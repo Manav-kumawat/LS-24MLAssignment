{
  "cells": [
    {
      "cell_type": "code",
      "execution_count": 6,
      "metadata": {
        "id": "-zTLHrFCT6KY"
      },
      "outputs": [],
      "source": [
        "import numpy as np\n",
        "import pandas as pd\n",
        "import matplotlib.pyplot as plt\n",
        "from sklearn.preprocessing import LabelEncoder\n",
        "\n",
        "# Aim is to predict the marks of students of the test data"
      ]
    },
    {
      "cell_type": "code",
      "execution_count": 7,
      "metadata": {
        "colab": {
          "base_uri": "https://localhost:8080/",
          "height": 211
        },
        "id": "p0KHq8ZgTpU4",
        "outputId": "e3d91415-ce7e-4607-ad2e-f7b048abfa48"
      },
      "outputs": [],
      "source": [
        "# Use the file namd 'training data' to train the model\n",
        "\n",
        "data = pd.read_excel('Training data.xlsx')\n",
        "x_train = np.array(data.iloc[:,0:8])\n",
        "y_train = np.array(data.iloc[:,8]).reshape(-1,1)\n",
        "\n",
        "# Try plotting y_train with different features\n",
        "# To get an idea whether to add some features or not\n",
        "# Add some features if required in x_train\n",
        "\n",
        "# Also do label encoding for features not represented in numbers\n",
        "# refer the link if not know : https://youtu.be/589nCGeWG1w?si=t2Wa7LgbUOO4RooM\n",
        "\n",
        "def feature_changing(x_train):\n",
        "    x_train_df = pd.DataFrame(x_train)\n",
        "    \n",
        "    # Perform label encoding for categorical variables\n",
        "    label_encoders = {}\n",
        "    categorical_cols = [col for col in x_train_df.columns if isinstance(x_train_df[col][0], str)]\n",
        "    for col in categorical_cols:\n",
        "        label_encoders[col] = LabelEncoder()\n",
        "        x_train_df[col] = label_encoders[col].fit_transform(x_train_df[col])\n",
        "    \n",
        "    # Convert back to NumPy array if needed\n",
        "    x_train = np.array(x_train_df)\n",
        "    \n",
        "    return x_train\n",
        "\n",
        "x_train = feature_changing(x_train)"
      ]
    },
    {
      "cell_type": "code",
      "execution_count": 13,
      "metadata": {
        "id": "tYshvtYlVour"
      },
      "outputs": [],
      "source": [
        "def z_score(x_train):\n",
        " x_mean = np.mean(x_train, axis=0)\n",
        " x_std = np.std(x_train, axis=0)\n",
        " x_train_scaled = (x_train - x_mean) / x_std\n",
        " return x_train,x_std,x_mean"
      ]
    },
    {
      "cell_type": "code",
      "execution_count": 20,
      "metadata": {
        "id": "O5dOwbNbWJWa"
      },
      "outputs": [],
      "source": [
        "def cost(x_train,y_train,w,b):\n",
        "\n",
        "    m = len(y_train)  # number of training examples\n",
        "    y_pred = np.dot(x_train, w) + b  # Predicted values\n",
        "    loss = np.mean((y_pred - y_train) ** 2)\n",
        "\n",
        "    return loss"
      ]
    },
    {
      "cell_type": "code",
      "execution_count": 21,
      "metadata": {},
      "outputs": [
        {
          "data": {
            "text/plain": [
              "nan"
            ]
          },
          "execution_count": 21,
          "metadata": {},
          "output_type": "execute_result"
        }
      ],
      "source": [
        "cost(x_train,y_train,w,b)"
      ]
    },
    {
      "cell_type": "code",
      "execution_count": 10,
      "metadata": {
        "id": "hW8p2cTNU74W"
      },
      "outputs": [],
      "source": [
        "def gradient_descent(x_train,y_train,w,b=0, learning_rate=0.01, num_iterations=1000):\n",
        "\n",
        "    m = len(y_train)  # number of training examples\n",
        "    for i in range(num_iterations):\n",
        "        # Calculate predicted values\n",
        "        y_pred = np.dot(x_train, w) + b\n",
        "        \n",
        "        # Calculate gradients\n",
        "        dw = (1/m) * np.dot(x_train.T, (y_pred - y_train))\n",
        "        db = (1/m) * np.sum(y_pred - y_train)\n",
        "        \n",
        "        # Update parameters\n",
        "        w -= learning_rate * dw\n",
        "        b -= learning_rate * db\n",
        "        \n",
        "        # Optionally, you can print the cost (MSE) every few iterations\n",
        "        if i % 100 == 0:\n",
        "            cost = np.mean((y_pred - y_train) ** 2)\n",
        "            print(f'Iteration {i}: Cost = {cost}')\n",
        "\n",
        "    return w,b"
      ]
    },
    {
      "cell_type": "code",
      "execution_count": 11,
      "metadata": {
        "id": "Kl-fioJ5WkYn"
      },
      "outputs": [
        {
          "name": "stdout",
          "output_type": "stream",
          "text": [
            "Iteration 0: Cost = 6499.51999470141\n",
            "Iteration 100: Cost = inf\n",
            "Iteration 200: Cost = nan\n",
            "Iteration 300: Cost = nan\n",
            "Iteration 400: Cost = nan\n",
            "Iteration 500: Cost = nan\n",
            "Iteration 600: Cost = nan\n",
            "Iteration 700: Cost = nan\n",
            "Iteration 800: Cost = nan\n",
            "Iteration 900: Cost = nan\n",
            "Optimization required, your accuracy is 0.0%\n"
          ]
        },
        {
          "name": "stderr",
          "output_type": "stream",
          "text": [
            "C:\\Users\\HP\\AppData\\Local\\Temp\\ipykernel_36756\\862369061.py:18: RuntimeWarning: overflow encountered in square\n",
            "  cost = np.mean((y_pred - y_train) ** 2)\n",
            "C:\\Users\\HP\\AppData\\Local\\Temp\\ipykernel_36756\\862369061.py:13: RuntimeWarning: invalid value encountered in subtract\n",
            "  w -= learning_rate * dw\n",
            "C:\\Users\\HP\\AppData\\Local\\Temp\\ipykernel_36756\\3571104405.py:23: RuntimeWarning: invalid value encountered in less\n",
            "  if abs(y_predict[dim]-ans[dim])<0.5: # do not change the tolerance as you'll be checked on +- 0.5 error only\n"
          ]
        }
      ],
      "source": [
        "x_train = x_train.astype(np.float64)\n",
        "x_train,x_std,x_mean = z_score(x_train)\n",
        "\n",
        "np.random.seed(2147483647)\n",
        "w = np.random.randn(x_train.shape[1],1)\n",
        "b = np.random.randn(1)\n",
        "\n",
        "old_cost = 0\n",
        "\n",
        "while abs(old_cost - cost(x_train,y_train,w,b))>0.00001:\n",
        "  old_cost = cost(x_train,y_train,w,b)\n",
        "  w,b = gradient_descent(x_train,y_train,w,b)\n",
        "\n",
        "x_predict = pd.read_excel('Test data.xlsx').iloc[:,:8].to_numpy()\n",
        "x_predict = feature_changing(x_predict)\n",
        "x_predict = (x_predict - x_mean)/x_std\n",
        "ans = pd.read_excel('Test data.xlsx').iloc[:,8].to_numpy()\n",
        "\n",
        "y_predict = np.dot(x_predict,w) + b\n",
        "\n",
        "accuracy = 0\n",
        "for dim in range(len(ans)):\n",
        "  if abs(y_predict[dim]-ans[dim])<0.5: # do not change the tolerance as you'll be checked on +- 0.5 error only\n",
        "    accuracy += 1\n",
        "accuracy = round(accuracy*100/200.0,2)\n",
        "ok = 'Congratulations' if accuracy>95 else 'Optimization required'\n",
        "print(f\"{ok}, your accuracy is {accuracy}%\")"
      ]
    },
    {
      "cell_type": "code",
      "execution_count": null,
      "metadata": {},
      "outputs": [],
      "source": []
    }
  ],
  "metadata": {
    "colab": {
      "provenance": []
    },
    "kernelspec": {
      "display_name": "Python 3",
      "name": "python3"
    },
    "language_info": {
      "codemirror_mode": {
        "name": "ipython",
        "version": 3
      },
      "file_extension": ".py",
      "mimetype": "text/x-python",
      "name": "python",
      "nbconvert_exporter": "python",
      "pygments_lexer": "ipython3",
      "version": "3.12.4"
    }
  },
  "nbformat": 4,
  "nbformat_minor": 0
}
